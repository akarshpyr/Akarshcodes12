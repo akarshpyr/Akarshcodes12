{
  "nbformat": 4,
  "nbformat_minor": 0,
  "metadata": {
    "colab": {
      "provenance": [],
      "authorship_tag": "ABX9TyPUhC3W0FQ96+0kpizPgEM9",
      "include_colab_link": true
    },
    "kernelspec": {
      "name": "python3",
      "display_name": "Python 3"
    },
    "language_info": {
      "name": "python"
    }
  },
  "cells": [
    {
      "cell_type": "markdown",
      "metadata": {
        "id": "view-in-github",
        "colab_type": "text"
      },
      "source": [
        "<a href=\"https://colab.research.google.com/github/akarshpyr/Akarshcodes12/blob/main/KNN.ipynb\" target=\"_parent\"><img src=\"https://colab.research.google.com/assets/colab-badge.svg\" alt=\"Open In Colab\"/></a>"
      ]
    },
    {
      "cell_type": "code",
      "execution_count": 1,
      "metadata": {
        "id": "dUYbnkZ0WSOx"
      },
      "outputs": [],
      "source": [
        "import pandas as pd\n",
        "import numpy as np\n",
        "import matplotlib.pyplot as plt\n",
        "import seaborn as sns\n"
      ]
    },
    {
      "cell_type": "code",
      "source": [
        "df = pd.read_csv('/content/data_cleaned.csv')"
      ],
      "metadata": {
        "id": "bp66m75kXMZX"
      },
      "execution_count": 2,
      "outputs": []
    },
    {
      "cell_type": "code",
      "source": [
        "df"
      ],
      "metadata": {
        "colab": {
          "base_uri": "https://localhost:8080/",
          "height": 487
        },
        "id": "JiFUNxXNcRBQ",
        "outputId": "4e3c2099-b32f-4c56-b9dc-2cdc5912f133"
      },
      "execution_count": 3,
      "outputs": [
        {
          "output_type": "execute_result",
          "data": {
            "text/plain": [
              "     Survived        Age     Fare  Pclass_1  Pclass_2  Pclass_3  Sex_female  \\\n",
              "0           0  22.000000   7.2500         0         0         1           0   \n",
              "1           1  38.000000  71.2833         1         0         0           1   \n",
              "2           1  26.000000   7.9250         0         0         1           1   \n",
              "3           1  35.000000  53.1000         1         0         0           1   \n",
              "4           0  35.000000   8.0500         0         0         1           0   \n",
              "..        ...        ...      ...       ...       ...       ...         ...   \n",
              "886         0  27.000000  13.0000         0         1         0           0   \n",
              "887         1  19.000000  30.0000         1         0         0           1   \n",
              "888         0  29.699118  23.4500         0         0         1           1   \n",
              "889         1  26.000000  30.0000         1         0         0           0   \n",
              "890         0  32.000000   7.7500         0         0         1           0   \n",
              "\n",
              "     Sex_male  SibSp_0  SibSp_1  ...  Parch_0  Parch_1  Parch_2  Parch_3  \\\n",
              "0           1        0        1  ...        1        0        0        0   \n",
              "1           0        0        1  ...        1        0        0        0   \n",
              "2           0        1        0  ...        1        0        0        0   \n",
              "3           0        0        1  ...        1        0        0        0   \n",
              "4           1        1        0  ...        1        0        0        0   \n",
              "..        ...      ...      ...  ...      ...      ...      ...      ...   \n",
              "886         1        1        0  ...        1        0        0        0   \n",
              "887         0        1        0  ...        1        0        0        0   \n",
              "888         0        0        1  ...        0        0        1        0   \n",
              "889         1        1        0  ...        1        0        0        0   \n",
              "890         1        1        0  ...        1        0        0        0   \n",
              "\n",
              "     Parch_4  Parch_5  Parch_6  Embarked_C  Embarked_Q  Embarked_S  \n",
              "0          0        0        0           0           0           1  \n",
              "1          0        0        0           1           0           0  \n",
              "2          0        0        0           0           0           1  \n",
              "3          0        0        0           0           0           1  \n",
              "4          0        0        0           0           0           1  \n",
              "..       ...      ...      ...         ...         ...         ...  \n",
              "886        0        0        0           0           0           1  \n",
              "887        0        0        0           0           0           1  \n",
              "888        0        0        0           0           0           1  \n",
              "889        0        0        0           1           0           0  \n",
              "890        0        0        0           0           1           0  \n",
              "\n",
              "[891 rows x 25 columns]"
            ],
            "text/html": [
              "\n",
              "  <div id=\"df-64bb9cff-1a60-441a-9cf9-48744418c266\">\n",
              "    <div class=\"colab-df-container\">\n",
              "      <div>\n",
              "<style scoped>\n",
              "    .dataframe tbody tr th:only-of-type {\n",
              "        vertical-align: middle;\n",
              "    }\n",
              "\n",
              "    .dataframe tbody tr th {\n",
              "        vertical-align: top;\n",
              "    }\n",
              "\n",
              "    .dataframe thead th {\n",
              "        text-align: right;\n",
              "    }\n",
              "</style>\n",
              "<table border=\"1\" class=\"dataframe\">\n",
              "  <thead>\n",
              "    <tr style=\"text-align: right;\">\n",
              "      <th></th>\n",
              "      <th>Survived</th>\n",
              "      <th>Age</th>\n",
              "      <th>Fare</th>\n",
              "      <th>Pclass_1</th>\n",
              "      <th>Pclass_2</th>\n",
              "      <th>Pclass_3</th>\n",
              "      <th>Sex_female</th>\n",
              "      <th>Sex_male</th>\n",
              "      <th>SibSp_0</th>\n",
              "      <th>SibSp_1</th>\n",
              "      <th>...</th>\n",
              "      <th>Parch_0</th>\n",
              "      <th>Parch_1</th>\n",
              "      <th>Parch_2</th>\n",
              "      <th>Parch_3</th>\n",
              "      <th>Parch_4</th>\n",
              "      <th>Parch_5</th>\n",
              "      <th>Parch_6</th>\n",
              "      <th>Embarked_C</th>\n",
              "      <th>Embarked_Q</th>\n",
              "      <th>Embarked_S</th>\n",
              "    </tr>\n",
              "  </thead>\n",
              "  <tbody>\n",
              "    <tr>\n",
              "      <th>0</th>\n",
              "      <td>0</td>\n",
              "      <td>22.000000</td>\n",
              "      <td>7.2500</td>\n",
              "      <td>0</td>\n",
              "      <td>0</td>\n",
              "      <td>1</td>\n",
              "      <td>0</td>\n",
              "      <td>1</td>\n",
              "      <td>0</td>\n",
              "      <td>1</td>\n",
              "      <td>...</td>\n",
              "      <td>1</td>\n",
              "      <td>0</td>\n",
              "      <td>0</td>\n",
              "      <td>0</td>\n",
              "      <td>0</td>\n",
              "      <td>0</td>\n",
              "      <td>0</td>\n",
              "      <td>0</td>\n",
              "      <td>0</td>\n",
              "      <td>1</td>\n",
              "    </tr>\n",
              "    <tr>\n",
              "      <th>1</th>\n",
              "      <td>1</td>\n",
              "      <td>38.000000</td>\n",
              "      <td>71.2833</td>\n",
              "      <td>1</td>\n",
              "      <td>0</td>\n",
              "      <td>0</td>\n",
              "      <td>1</td>\n",
              "      <td>0</td>\n",
              "      <td>0</td>\n",
              "      <td>1</td>\n",
              "      <td>...</td>\n",
              "      <td>1</td>\n",
              "      <td>0</td>\n",
              "      <td>0</td>\n",
              "      <td>0</td>\n",
              "      <td>0</td>\n",
              "      <td>0</td>\n",
              "      <td>0</td>\n",
              "      <td>1</td>\n",
              "      <td>0</td>\n",
              "      <td>0</td>\n",
              "    </tr>\n",
              "    <tr>\n",
              "      <th>2</th>\n",
              "      <td>1</td>\n",
              "      <td>26.000000</td>\n",
              "      <td>7.9250</td>\n",
              "      <td>0</td>\n",
              "      <td>0</td>\n",
              "      <td>1</td>\n",
              "      <td>1</td>\n",
              "      <td>0</td>\n",
              "      <td>1</td>\n",
              "      <td>0</td>\n",
              "      <td>...</td>\n",
              "      <td>1</td>\n",
              "      <td>0</td>\n",
              "      <td>0</td>\n",
              "      <td>0</td>\n",
              "      <td>0</td>\n",
              "      <td>0</td>\n",
              "      <td>0</td>\n",
              "      <td>0</td>\n",
              "      <td>0</td>\n",
              "      <td>1</td>\n",
              "    </tr>\n",
              "    <tr>\n",
              "      <th>3</th>\n",
              "      <td>1</td>\n",
              "      <td>35.000000</td>\n",
              "      <td>53.1000</td>\n",
              "      <td>1</td>\n",
              "      <td>0</td>\n",
              "      <td>0</td>\n",
              "      <td>1</td>\n",
              "      <td>0</td>\n",
              "      <td>0</td>\n",
              "      <td>1</td>\n",
              "      <td>...</td>\n",
              "      <td>1</td>\n",
              "      <td>0</td>\n",
              "      <td>0</td>\n",
              "      <td>0</td>\n",
              "      <td>0</td>\n",
              "      <td>0</td>\n",
              "      <td>0</td>\n",
              "      <td>0</td>\n",
              "      <td>0</td>\n",
              "      <td>1</td>\n",
              "    </tr>\n",
              "    <tr>\n",
              "      <th>4</th>\n",
              "      <td>0</td>\n",
              "      <td>35.000000</td>\n",
              "      <td>8.0500</td>\n",
              "      <td>0</td>\n",
              "      <td>0</td>\n",
              "      <td>1</td>\n",
              "      <td>0</td>\n",
              "      <td>1</td>\n",
              "      <td>1</td>\n",
              "      <td>0</td>\n",
              "      <td>...</td>\n",
              "      <td>1</td>\n",
              "      <td>0</td>\n",
              "      <td>0</td>\n",
              "      <td>0</td>\n",
              "      <td>0</td>\n",
              "      <td>0</td>\n",
              "      <td>0</td>\n",
              "      <td>0</td>\n",
              "      <td>0</td>\n",
              "      <td>1</td>\n",
              "    </tr>\n",
              "    <tr>\n",
              "      <th>...</th>\n",
              "      <td>...</td>\n",
              "      <td>...</td>\n",
              "      <td>...</td>\n",
              "      <td>...</td>\n",
              "      <td>...</td>\n",
              "      <td>...</td>\n",
              "      <td>...</td>\n",
              "      <td>...</td>\n",
              "      <td>...</td>\n",
              "      <td>...</td>\n",
              "      <td>...</td>\n",
              "      <td>...</td>\n",
              "      <td>...</td>\n",
              "      <td>...</td>\n",
              "      <td>...</td>\n",
              "      <td>...</td>\n",
              "      <td>...</td>\n",
              "      <td>...</td>\n",
              "      <td>...</td>\n",
              "      <td>...</td>\n",
              "      <td>...</td>\n",
              "    </tr>\n",
              "    <tr>\n",
              "      <th>886</th>\n",
              "      <td>0</td>\n",
              "      <td>27.000000</td>\n",
              "      <td>13.0000</td>\n",
              "      <td>0</td>\n",
              "      <td>1</td>\n",
              "      <td>0</td>\n",
              "      <td>0</td>\n",
              "      <td>1</td>\n",
              "      <td>1</td>\n",
              "      <td>0</td>\n",
              "      <td>...</td>\n",
              "      <td>1</td>\n",
              "      <td>0</td>\n",
              "      <td>0</td>\n",
              "      <td>0</td>\n",
              "      <td>0</td>\n",
              "      <td>0</td>\n",
              "      <td>0</td>\n",
              "      <td>0</td>\n",
              "      <td>0</td>\n",
              "      <td>1</td>\n",
              "    </tr>\n",
              "    <tr>\n",
              "      <th>887</th>\n",
              "      <td>1</td>\n",
              "      <td>19.000000</td>\n",
              "      <td>30.0000</td>\n",
              "      <td>1</td>\n",
              "      <td>0</td>\n",
              "      <td>0</td>\n",
              "      <td>1</td>\n",
              "      <td>0</td>\n",
              "      <td>1</td>\n",
              "      <td>0</td>\n",
              "      <td>...</td>\n",
              "      <td>1</td>\n",
              "      <td>0</td>\n",
              "      <td>0</td>\n",
              "      <td>0</td>\n",
              "      <td>0</td>\n",
              "      <td>0</td>\n",
              "      <td>0</td>\n",
              "      <td>0</td>\n",
              "      <td>0</td>\n",
              "      <td>1</td>\n",
              "    </tr>\n",
              "    <tr>\n",
              "      <th>888</th>\n",
              "      <td>0</td>\n",
              "      <td>29.699118</td>\n",
              "      <td>23.4500</td>\n",
              "      <td>0</td>\n",
              "      <td>0</td>\n",
              "      <td>1</td>\n",
              "      <td>1</td>\n",
              "      <td>0</td>\n",
              "      <td>0</td>\n",
              "      <td>1</td>\n",
              "      <td>...</td>\n",
              "      <td>0</td>\n",
              "      <td>0</td>\n",
              "      <td>1</td>\n",
              "      <td>0</td>\n",
              "      <td>0</td>\n",
              "      <td>0</td>\n",
              "      <td>0</td>\n",
              "      <td>0</td>\n",
              "      <td>0</td>\n",
              "      <td>1</td>\n",
              "    </tr>\n",
              "    <tr>\n",
              "      <th>889</th>\n",
              "      <td>1</td>\n",
              "      <td>26.000000</td>\n",
              "      <td>30.0000</td>\n",
              "      <td>1</td>\n",
              "      <td>0</td>\n",
              "      <td>0</td>\n",
              "      <td>0</td>\n",
              "      <td>1</td>\n",
              "      <td>1</td>\n",
              "      <td>0</td>\n",
              "      <td>...</td>\n",
              "      <td>1</td>\n",
              "      <td>0</td>\n",
              "      <td>0</td>\n",
              "      <td>0</td>\n",
              "      <td>0</td>\n",
              "      <td>0</td>\n",
              "      <td>0</td>\n",
              "      <td>1</td>\n",
              "      <td>0</td>\n",
              "      <td>0</td>\n",
              "    </tr>\n",
              "    <tr>\n",
              "      <th>890</th>\n",
              "      <td>0</td>\n",
              "      <td>32.000000</td>\n",
              "      <td>7.7500</td>\n",
              "      <td>0</td>\n",
              "      <td>0</td>\n",
              "      <td>1</td>\n",
              "      <td>0</td>\n",
              "      <td>1</td>\n",
              "      <td>1</td>\n",
              "      <td>0</td>\n",
              "      <td>...</td>\n",
              "      <td>1</td>\n",
              "      <td>0</td>\n",
              "      <td>0</td>\n",
              "      <td>0</td>\n",
              "      <td>0</td>\n",
              "      <td>0</td>\n",
              "      <td>0</td>\n",
              "      <td>0</td>\n",
              "      <td>1</td>\n",
              "      <td>0</td>\n",
              "    </tr>\n",
              "  </tbody>\n",
              "</table>\n",
              "<p>891 rows × 25 columns</p>\n",
              "</div>\n",
              "      <button class=\"colab-df-convert\" onclick=\"convertToInteractive('df-64bb9cff-1a60-441a-9cf9-48744418c266')\"\n",
              "              title=\"Convert this dataframe to an interactive table.\"\n",
              "              style=\"display:none;\">\n",
              "        \n",
              "  <svg xmlns=\"http://www.w3.org/2000/svg\" height=\"24px\"viewBox=\"0 0 24 24\"\n",
              "       width=\"24px\">\n",
              "    <path d=\"M0 0h24v24H0V0z\" fill=\"none\"/>\n",
              "    <path d=\"M18.56 5.44l.94 2.06.94-2.06 2.06-.94-2.06-.94-.94-2.06-.94 2.06-2.06.94zm-11 1L8.5 8.5l.94-2.06 2.06-.94-2.06-.94L8.5 2.5l-.94 2.06-2.06.94zm10 10l.94 2.06.94-2.06 2.06-.94-2.06-.94-.94-2.06-.94 2.06-2.06.94z\"/><path d=\"M17.41 7.96l-1.37-1.37c-.4-.4-.92-.59-1.43-.59-.52 0-1.04.2-1.43.59L10.3 9.45l-7.72 7.72c-.78.78-.78 2.05 0 2.83L4 21.41c.39.39.9.59 1.41.59.51 0 1.02-.2 1.41-.59l7.78-7.78 2.81-2.81c.8-.78.8-2.07 0-2.86zM5.41 20L4 18.59l7.72-7.72 1.47 1.35L5.41 20z\"/>\n",
              "  </svg>\n",
              "      </button>\n",
              "      \n",
              "  <style>\n",
              "    .colab-df-container {\n",
              "      display:flex;\n",
              "      flex-wrap:wrap;\n",
              "      gap: 12px;\n",
              "    }\n",
              "\n",
              "    .colab-df-convert {\n",
              "      background-color: #E8F0FE;\n",
              "      border: none;\n",
              "      border-radius: 50%;\n",
              "      cursor: pointer;\n",
              "      display: none;\n",
              "      fill: #1967D2;\n",
              "      height: 32px;\n",
              "      padding: 0 0 0 0;\n",
              "      width: 32px;\n",
              "    }\n",
              "\n",
              "    .colab-df-convert:hover {\n",
              "      background-color: #E2EBFA;\n",
              "      box-shadow: 0px 1px 2px rgba(60, 64, 67, 0.3), 0px 1px 3px 1px rgba(60, 64, 67, 0.15);\n",
              "      fill: #174EA6;\n",
              "    }\n",
              "\n",
              "    [theme=dark] .colab-df-convert {\n",
              "      background-color: #3B4455;\n",
              "      fill: #D2E3FC;\n",
              "    }\n",
              "\n",
              "    [theme=dark] .colab-df-convert:hover {\n",
              "      background-color: #434B5C;\n",
              "      box-shadow: 0px 1px 3px 1px rgba(0, 0, 0, 0.15);\n",
              "      filter: drop-shadow(0px 1px 2px rgba(0, 0, 0, 0.3));\n",
              "      fill: #FFFFFF;\n",
              "    }\n",
              "  </style>\n",
              "\n",
              "      <script>\n",
              "        const buttonEl =\n",
              "          document.querySelector('#df-64bb9cff-1a60-441a-9cf9-48744418c266 button.colab-df-convert');\n",
              "        buttonEl.style.display =\n",
              "          google.colab.kernel.accessAllowed ? 'block' : 'none';\n",
              "\n",
              "        async function convertToInteractive(key) {\n",
              "          const element = document.querySelector('#df-64bb9cff-1a60-441a-9cf9-48744418c266');\n",
              "          const dataTable =\n",
              "            await google.colab.kernel.invokeFunction('convertToInteractive',\n",
              "                                                     [key], {});\n",
              "          if (!dataTable) return;\n",
              "\n",
              "          const docLinkHtml = 'Like what you see? Visit the ' +\n",
              "            '<a target=\"_blank\" href=https://colab.research.google.com/notebooks/data_table.ipynb>data table notebook</a>'\n",
              "            + ' to learn more about interactive tables.';\n",
              "          element.innerHTML = '';\n",
              "          dataTable['output_type'] = 'display_data';\n",
              "          await google.colab.output.renderOutput(dataTable, element);\n",
              "          const docLink = document.createElement('div');\n",
              "          docLink.innerHTML = docLinkHtml;\n",
              "          element.appendChild(docLink);\n",
              "        }\n",
              "      </script>\n",
              "    </div>\n",
              "  </div>\n",
              "  "
            ]
          },
          "metadata": {},
          "execution_count": 3
        }
      ]
    },
    {
      "cell_type": "code",
      "source": [
        "from sklearn.model_selection import train_test_split"
      ],
      "metadata": {
        "id": "B9C48Z_YcRpm"
      },
      "execution_count": 4,
      "outputs": []
    },
    {
      "cell_type": "code",
      "source": [
        "x = df.drop('Survived',axis=1)\n",
        "y = df['Survived']"
      ],
      "metadata": {
        "id": "8r4b8WVmcXfl"
      },
      "execution_count": 5,
      "outputs": []
    },
    {
      "cell_type": "code",
      "source": [
        "x_train,x_test,y_train,y_test = train_test_split(x,y,test_size=0.3,stratify=y,random_state=3)"
      ],
      "metadata": {
        "id": "aGPmKyQIck3z"
      },
      "execution_count": 119,
      "outputs": []
    },
    {
      "cell_type": "code",
      "source": [
        "from sklearn.preprocessing import StandardScaler, MinMaxScaler"
      ],
      "metadata": {
        "id": "KxiMy0W9cxey"
      },
      "execution_count": 120,
      "outputs": []
    },
    {
      "cell_type": "code",
      "source": [
        "scal = StandardScaler()"
      ],
      "metadata": {
        "id": "7r31Q5TZc97B"
      },
      "execution_count": 121,
      "outputs": []
    },
    {
      "cell_type": "code",
      "source": [
        "x_train_scaled = scal.fit_transform(x_train)\n",
        "x_test_scaled = scal.transform(x_test)"
      ],
      "metadata": {
        "id": "Nklco8A3dBix"
      },
      "execution_count": 122,
      "outputs": []
    },
    {
      "cell_type": "code",
      "source": [
        "col = x_train.columns"
      ],
      "metadata": {
        "id": "a39hw2HzddK3"
      },
      "execution_count": 123,
      "outputs": []
    },
    {
      "cell_type": "code",
      "source": [
        "col"
      ],
      "metadata": {
        "colab": {
          "base_uri": "https://localhost:8080/"
        },
        "id": "8akc2P69d84f",
        "outputId": "3c72525a-e326-44be-cc9a-1aac4f3fadf6"
      },
      "execution_count": 124,
      "outputs": [
        {
          "output_type": "execute_result",
          "data": {
            "text/plain": [
              "Index(['Age', 'Fare', 'Pclass_1', 'Pclass_2', 'Pclass_3', 'Sex_female',\n",
              "       'Sex_male', 'SibSp_0', 'SibSp_1', 'SibSp_2', 'SibSp_3', 'SibSp_4',\n",
              "       'SibSp_5', 'SibSp_8', 'Parch_0', 'Parch_1', 'Parch_2', 'Parch_3',\n",
              "       'Parch_4', 'Parch_5', 'Parch_6', 'Embarked_C', 'Embarked_Q',\n",
              "       'Embarked_S'],\n",
              "      dtype='object')"
            ]
          },
          "metadata": {},
          "execution_count": 124
        }
      ]
    },
    {
      "cell_type": "code",
      "source": [
        "x_train_scaled"
      ],
      "metadata": {
        "colab": {
          "base_uri": "https://localhost:8080/"
        },
        "id": "WmdsMurHdUku",
        "outputId": "161391e8-983a-48e0-b178-7eb71e44ce64"
      },
      "execution_count": 125,
      "outputs": [
        {
          "output_type": "execute_result",
          "data": {
            "text/plain": [
              "array([[-5.04129284e-01, -5.25545461e-01, -5.53244670e-01, ...,\n",
              "        -4.70710768e-01, -2.79024499e-01,  5.82910753e-01],\n",
              "       [ 3.48268720e-03,  4.26712712e-01,  1.80751854e+00, ...,\n",
              "        -4.70710768e-01, -2.79024499e-01,  5.82910753e-01],\n",
              "       [-4.28356324e-01,  7.63199698e-01, -5.53244670e-01, ...,\n",
              "        -4.70710768e-01, -2.79024499e-01,  5.82910753e-01],\n",
              "       ...,\n",
              "       [ 7.84011030e-01,  4.95861914e-04,  1.80751854e+00, ...,\n",
              "         2.12444683e+00, -2.79024499e-01, -1.71552848e+00],\n",
              "       [ 2.62814336e-02, -4.15065567e-01, -5.53244670e-01, ...,\n",
              "        -4.70710768e-01, -2.79024499e-01,  5.82910753e-01],\n",
              "       [ 1.54174063e+00, -4.59369687e-01, -5.53244670e-01, ...,\n",
              "        -4.70710768e-01, -2.79024499e-01,  5.82910753e-01]])"
            ]
          },
          "metadata": {},
          "execution_count": 125
        }
      ]
    },
    {
      "cell_type": "code",
      "source": [
        "x_train_scal = pd.DataFrame(x_train_scaled,columns=col)\n",
        "x_test_scal = pd.DataFrame(x_test_scaled,columns=col)"
      ],
      "metadata": {
        "id": "_K5bgASydWUx"
      },
      "execution_count": 126,
      "outputs": []
    },
    {
      "cell_type": "code",
      "source": [
        "x_train_scal"
      ],
      "metadata": {
        "colab": {
          "base_uri": "https://localhost:8080/",
          "height": 487
        },
        "id": "nk2mHiJreNpp",
        "outputId": "645a8078-b279-434d-bfa8-8b6e0b741103"
      },
      "execution_count": 127,
      "outputs": [
        {
          "output_type": "execute_result",
          "data": {
            "text/plain": [
              "          Age      Fare  Pclass_1  Pclass_2  Pclass_3  Sex_female  Sex_male  \\\n",
              "0   -0.504129 -0.525545 -0.553245 -0.508513  0.886059    1.377561 -1.377561   \n",
              "1    0.003483  0.426713  1.807519 -0.508513 -1.128593   -0.725921  0.725921   \n",
              "2   -0.428356  0.763200 -0.553245  1.966517 -1.128593    1.377561 -1.377561   \n",
              "3   -0.807221 -0.523302 -0.553245 -0.508513  0.886059   -0.725921  0.725921   \n",
              "4   -1.337632 -0.442732 -0.553245 -0.508513  0.886059   -0.725921  0.725921   \n",
              "..        ...       ...       ...       ...       ...         ...       ...   \n",
              "618 -0.882994 -0.370667 -0.553245 -0.508513  0.886059    1.377561 -1.377561   \n",
              "619 -1.640724 -0.222146 -0.553245 -0.508513  0.886059    1.377561 -1.377561   \n",
              "620  0.784011  0.000496  1.807519 -0.508513 -1.128593   -0.725921  0.725921   \n",
              "621  0.026281 -0.415066 -0.553245 -0.508513  0.886059    1.377561 -1.377561   \n",
              "622  1.541741 -0.459370 -0.553245  1.966517 -1.128593    1.377561 -1.377561   \n",
              "\n",
              "      SibSp_0   SibSp_1   SibSp_2  ...   Parch_0   Parch_1   Parch_2  Parch_3  \\\n",
              "0    0.685084 -0.570554 -0.162355  ...  0.565611 -0.400186 -0.317343 -0.05675   \n",
              "1    0.685084 -0.570554 -0.162355  ...  0.565611 -0.400186 -0.317343 -0.05675   \n",
              "2   -1.459676  1.752682 -0.162355  ... -1.768001 -0.400186  3.151162 -0.05675   \n",
              "3    0.685084 -0.570554 -0.162355  ...  0.565611 -0.400186 -0.317343 -0.05675   \n",
              "4   -1.459676  1.752682 -0.162355  ...  0.565611 -0.400186 -0.317343 -0.05675   \n",
              "..        ...       ...       ...  ...       ...       ...       ...      ...   \n",
              "618  0.685084 -0.570554 -0.162355  ... -1.768001  2.498837 -0.317343 -0.05675   \n",
              "619 -1.459676 -0.570554 -0.162355  ... -1.768001  2.498837 -0.317343 -0.05675   \n",
              "620  0.685084 -0.570554 -0.162355  ...  0.565611 -0.400186 -0.317343 -0.05675   \n",
              "621  0.685084 -0.570554 -0.162355  ...  0.565611 -0.400186 -0.317343 -0.05675   \n",
              "622  0.685084 -0.570554 -0.162355  ...  0.565611 -0.400186 -0.317343 -0.05675   \n",
              "\n",
              "     Parch_4   Parch_5  Parch_6  Embarked_C  Embarked_Q  Embarked_S  \n",
              "0   -0.05675 -0.080387      0.0   -0.470711   -0.279024    0.582911  \n",
              "1   -0.05675 -0.080387      0.0   -0.470711   -0.279024    0.582911  \n",
              "2   -0.05675 -0.080387      0.0   -0.470711   -0.279024    0.582911  \n",
              "3   -0.05675 -0.080387      0.0   -0.470711   -0.279024    0.582911  \n",
              "4   -0.05675 -0.080387      0.0    2.124447   -0.279024   -1.715528  \n",
              "..       ...       ...      ...         ...         ...         ...  \n",
              "618 -0.05675 -0.080387      0.0    2.124447   -0.279024   -1.715528  \n",
              "619 -0.05675 -0.080387      0.0   -0.470711   -0.279024    0.582911  \n",
              "620 -0.05675 -0.080387      0.0    2.124447   -0.279024   -1.715528  \n",
              "621 -0.05675 -0.080387      0.0   -0.470711   -0.279024    0.582911  \n",
              "622 -0.05675 -0.080387      0.0   -0.470711   -0.279024    0.582911  \n",
              "\n",
              "[623 rows x 24 columns]"
            ],
            "text/html": [
              "\n",
              "  <div id=\"df-1493711d-7f0f-4b41-84fe-adfffb4452dd\">\n",
              "    <div class=\"colab-df-container\">\n",
              "      <div>\n",
              "<style scoped>\n",
              "    .dataframe tbody tr th:only-of-type {\n",
              "        vertical-align: middle;\n",
              "    }\n",
              "\n",
              "    .dataframe tbody tr th {\n",
              "        vertical-align: top;\n",
              "    }\n",
              "\n",
              "    .dataframe thead th {\n",
              "        text-align: right;\n",
              "    }\n",
              "</style>\n",
              "<table border=\"1\" class=\"dataframe\">\n",
              "  <thead>\n",
              "    <tr style=\"text-align: right;\">\n",
              "      <th></th>\n",
              "      <th>Age</th>\n",
              "      <th>Fare</th>\n",
              "      <th>Pclass_1</th>\n",
              "      <th>Pclass_2</th>\n",
              "      <th>Pclass_3</th>\n",
              "      <th>Sex_female</th>\n",
              "      <th>Sex_male</th>\n",
              "      <th>SibSp_0</th>\n",
              "      <th>SibSp_1</th>\n",
              "      <th>SibSp_2</th>\n",
              "      <th>...</th>\n",
              "      <th>Parch_0</th>\n",
              "      <th>Parch_1</th>\n",
              "      <th>Parch_2</th>\n",
              "      <th>Parch_3</th>\n",
              "      <th>Parch_4</th>\n",
              "      <th>Parch_5</th>\n",
              "      <th>Parch_6</th>\n",
              "      <th>Embarked_C</th>\n",
              "      <th>Embarked_Q</th>\n",
              "      <th>Embarked_S</th>\n",
              "    </tr>\n",
              "  </thead>\n",
              "  <tbody>\n",
              "    <tr>\n",
              "      <th>0</th>\n",
              "      <td>-0.504129</td>\n",
              "      <td>-0.525545</td>\n",
              "      <td>-0.553245</td>\n",
              "      <td>-0.508513</td>\n",
              "      <td>0.886059</td>\n",
              "      <td>1.377561</td>\n",
              "      <td>-1.377561</td>\n",
              "      <td>0.685084</td>\n",
              "      <td>-0.570554</td>\n",
              "      <td>-0.162355</td>\n",
              "      <td>...</td>\n",
              "      <td>0.565611</td>\n",
              "      <td>-0.400186</td>\n",
              "      <td>-0.317343</td>\n",
              "      <td>-0.05675</td>\n",
              "      <td>-0.05675</td>\n",
              "      <td>-0.080387</td>\n",
              "      <td>0.0</td>\n",
              "      <td>-0.470711</td>\n",
              "      <td>-0.279024</td>\n",
              "      <td>0.582911</td>\n",
              "    </tr>\n",
              "    <tr>\n",
              "      <th>1</th>\n",
              "      <td>0.003483</td>\n",
              "      <td>0.426713</td>\n",
              "      <td>1.807519</td>\n",
              "      <td>-0.508513</td>\n",
              "      <td>-1.128593</td>\n",
              "      <td>-0.725921</td>\n",
              "      <td>0.725921</td>\n",
              "      <td>0.685084</td>\n",
              "      <td>-0.570554</td>\n",
              "      <td>-0.162355</td>\n",
              "      <td>...</td>\n",
              "      <td>0.565611</td>\n",
              "      <td>-0.400186</td>\n",
              "      <td>-0.317343</td>\n",
              "      <td>-0.05675</td>\n",
              "      <td>-0.05675</td>\n",
              "      <td>-0.080387</td>\n",
              "      <td>0.0</td>\n",
              "      <td>-0.470711</td>\n",
              "      <td>-0.279024</td>\n",
              "      <td>0.582911</td>\n",
              "    </tr>\n",
              "    <tr>\n",
              "      <th>2</th>\n",
              "      <td>-0.428356</td>\n",
              "      <td>0.763200</td>\n",
              "      <td>-0.553245</td>\n",
              "      <td>1.966517</td>\n",
              "      <td>-1.128593</td>\n",
              "      <td>1.377561</td>\n",
              "      <td>-1.377561</td>\n",
              "      <td>-1.459676</td>\n",
              "      <td>1.752682</td>\n",
              "      <td>-0.162355</td>\n",
              "      <td>...</td>\n",
              "      <td>-1.768001</td>\n",
              "      <td>-0.400186</td>\n",
              "      <td>3.151162</td>\n",
              "      <td>-0.05675</td>\n",
              "      <td>-0.05675</td>\n",
              "      <td>-0.080387</td>\n",
              "      <td>0.0</td>\n",
              "      <td>-0.470711</td>\n",
              "      <td>-0.279024</td>\n",
              "      <td>0.582911</td>\n",
              "    </tr>\n",
              "    <tr>\n",
              "      <th>3</th>\n",
              "      <td>-0.807221</td>\n",
              "      <td>-0.523302</td>\n",
              "      <td>-0.553245</td>\n",
              "      <td>-0.508513</td>\n",
              "      <td>0.886059</td>\n",
              "      <td>-0.725921</td>\n",
              "      <td>0.725921</td>\n",
              "      <td>0.685084</td>\n",
              "      <td>-0.570554</td>\n",
              "      <td>-0.162355</td>\n",
              "      <td>...</td>\n",
              "      <td>0.565611</td>\n",
              "      <td>-0.400186</td>\n",
              "      <td>-0.317343</td>\n",
              "      <td>-0.05675</td>\n",
              "      <td>-0.05675</td>\n",
              "      <td>-0.080387</td>\n",
              "      <td>0.0</td>\n",
              "      <td>-0.470711</td>\n",
              "      <td>-0.279024</td>\n",
              "      <td>0.582911</td>\n",
              "    </tr>\n",
              "    <tr>\n",
              "      <th>4</th>\n",
              "      <td>-1.337632</td>\n",
              "      <td>-0.442732</td>\n",
              "      <td>-0.553245</td>\n",
              "      <td>-0.508513</td>\n",
              "      <td>0.886059</td>\n",
              "      <td>-0.725921</td>\n",
              "      <td>0.725921</td>\n",
              "      <td>-1.459676</td>\n",
              "      <td>1.752682</td>\n",
              "      <td>-0.162355</td>\n",
              "      <td>...</td>\n",
              "      <td>0.565611</td>\n",
              "      <td>-0.400186</td>\n",
              "      <td>-0.317343</td>\n",
              "      <td>-0.05675</td>\n",
              "      <td>-0.05675</td>\n",
              "      <td>-0.080387</td>\n",
              "      <td>0.0</td>\n",
              "      <td>2.124447</td>\n",
              "      <td>-0.279024</td>\n",
              "      <td>-1.715528</td>\n",
              "    </tr>\n",
              "    <tr>\n",
              "      <th>...</th>\n",
              "      <td>...</td>\n",
              "      <td>...</td>\n",
              "      <td>...</td>\n",
              "      <td>...</td>\n",
              "      <td>...</td>\n",
              "      <td>...</td>\n",
              "      <td>...</td>\n",
              "      <td>...</td>\n",
              "      <td>...</td>\n",
              "      <td>...</td>\n",
              "      <td>...</td>\n",
              "      <td>...</td>\n",
              "      <td>...</td>\n",
              "      <td>...</td>\n",
              "      <td>...</td>\n",
              "      <td>...</td>\n",
              "      <td>...</td>\n",
              "      <td>...</td>\n",
              "      <td>...</td>\n",
              "      <td>...</td>\n",
              "      <td>...</td>\n",
              "    </tr>\n",
              "    <tr>\n",
              "      <th>618</th>\n",
              "      <td>-0.882994</td>\n",
              "      <td>-0.370667</td>\n",
              "      <td>-0.553245</td>\n",
              "      <td>-0.508513</td>\n",
              "      <td>0.886059</td>\n",
              "      <td>1.377561</td>\n",
              "      <td>-1.377561</td>\n",
              "      <td>0.685084</td>\n",
              "      <td>-0.570554</td>\n",
              "      <td>-0.162355</td>\n",
              "      <td>...</td>\n",
              "      <td>-1.768001</td>\n",
              "      <td>2.498837</td>\n",
              "      <td>-0.317343</td>\n",
              "      <td>-0.05675</td>\n",
              "      <td>-0.05675</td>\n",
              "      <td>-0.080387</td>\n",
              "      <td>0.0</td>\n",
              "      <td>2.124447</td>\n",
              "      <td>-0.279024</td>\n",
              "      <td>-1.715528</td>\n",
              "    </tr>\n",
              "    <tr>\n",
              "      <th>619</th>\n",
              "      <td>-1.640724</td>\n",
              "      <td>-0.222146</td>\n",
              "      <td>-0.553245</td>\n",
              "      <td>-0.508513</td>\n",
              "      <td>0.886059</td>\n",
              "      <td>1.377561</td>\n",
              "      <td>-1.377561</td>\n",
              "      <td>-1.459676</td>\n",
              "      <td>-0.570554</td>\n",
              "      <td>-0.162355</td>\n",
              "      <td>...</td>\n",
              "      <td>-1.768001</td>\n",
              "      <td>2.498837</td>\n",
              "      <td>-0.317343</td>\n",
              "      <td>-0.05675</td>\n",
              "      <td>-0.05675</td>\n",
              "      <td>-0.080387</td>\n",
              "      <td>0.0</td>\n",
              "      <td>-0.470711</td>\n",
              "      <td>-0.279024</td>\n",
              "      <td>0.582911</td>\n",
              "    </tr>\n",
              "    <tr>\n",
              "      <th>620</th>\n",
              "      <td>0.784011</td>\n",
              "      <td>0.000496</td>\n",
              "      <td>1.807519</td>\n",
              "      <td>-0.508513</td>\n",
              "      <td>-1.128593</td>\n",
              "      <td>-0.725921</td>\n",
              "      <td>0.725921</td>\n",
              "      <td>0.685084</td>\n",
              "      <td>-0.570554</td>\n",
              "      <td>-0.162355</td>\n",
              "      <td>...</td>\n",
              "      <td>0.565611</td>\n",
              "      <td>-0.400186</td>\n",
              "      <td>-0.317343</td>\n",
              "      <td>-0.05675</td>\n",
              "      <td>-0.05675</td>\n",
              "      <td>-0.080387</td>\n",
              "      <td>0.0</td>\n",
              "      <td>2.124447</td>\n",
              "      <td>-0.279024</td>\n",
              "      <td>-1.715528</td>\n",
              "    </tr>\n",
              "    <tr>\n",
              "      <th>621</th>\n",
              "      <td>0.026281</td>\n",
              "      <td>-0.415066</td>\n",
              "      <td>-0.553245</td>\n",
              "      <td>-0.508513</td>\n",
              "      <td>0.886059</td>\n",
              "      <td>1.377561</td>\n",
              "      <td>-1.377561</td>\n",
              "      <td>0.685084</td>\n",
              "      <td>-0.570554</td>\n",
              "      <td>-0.162355</td>\n",
              "      <td>...</td>\n",
              "      <td>0.565611</td>\n",
              "      <td>-0.400186</td>\n",
              "      <td>-0.317343</td>\n",
              "      <td>-0.05675</td>\n",
              "      <td>-0.05675</td>\n",
              "      <td>-0.080387</td>\n",
              "      <td>0.0</td>\n",
              "      <td>-0.470711</td>\n",
              "      <td>-0.279024</td>\n",
              "      <td>0.582911</td>\n",
              "    </tr>\n",
              "    <tr>\n",
              "      <th>622</th>\n",
              "      <td>1.541741</td>\n",
              "      <td>-0.459370</td>\n",
              "      <td>-0.553245</td>\n",
              "      <td>1.966517</td>\n",
              "      <td>-1.128593</td>\n",
              "      <td>1.377561</td>\n",
              "      <td>-1.377561</td>\n",
              "      <td>0.685084</td>\n",
              "      <td>-0.570554</td>\n",
              "      <td>-0.162355</td>\n",
              "      <td>...</td>\n",
              "      <td>0.565611</td>\n",
              "      <td>-0.400186</td>\n",
              "      <td>-0.317343</td>\n",
              "      <td>-0.05675</td>\n",
              "      <td>-0.05675</td>\n",
              "      <td>-0.080387</td>\n",
              "      <td>0.0</td>\n",
              "      <td>-0.470711</td>\n",
              "      <td>-0.279024</td>\n",
              "      <td>0.582911</td>\n",
              "    </tr>\n",
              "  </tbody>\n",
              "</table>\n",
              "<p>623 rows × 24 columns</p>\n",
              "</div>\n",
              "      <button class=\"colab-df-convert\" onclick=\"convertToInteractive('df-1493711d-7f0f-4b41-84fe-adfffb4452dd')\"\n",
              "              title=\"Convert this dataframe to an interactive table.\"\n",
              "              style=\"display:none;\">\n",
              "        \n",
              "  <svg xmlns=\"http://www.w3.org/2000/svg\" height=\"24px\"viewBox=\"0 0 24 24\"\n",
              "       width=\"24px\">\n",
              "    <path d=\"M0 0h24v24H0V0z\" fill=\"none\"/>\n",
              "    <path d=\"M18.56 5.44l.94 2.06.94-2.06 2.06-.94-2.06-.94-.94-2.06-.94 2.06-2.06.94zm-11 1L8.5 8.5l.94-2.06 2.06-.94-2.06-.94L8.5 2.5l-.94 2.06-2.06.94zm10 10l.94 2.06.94-2.06 2.06-.94-2.06-.94-.94-2.06-.94 2.06-2.06.94z\"/><path d=\"M17.41 7.96l-1.37-1.37c-.4-.4-.92-.59-1.43-.59-.52 0-1.04.2-1.43.59L10.3 9.45l-7.72 7.72c-.78.78-.78 2.05 0 2.83L4 21.41c.39.39.9.59 1.41.59.51 0 1.02-.2 1.41-.59l7.78-7.78 2.81-2.81c.8-.78.8-2.07 0-2.86zM5.41 20L4 18.59l7.72-7.72 1.47 1.35L5.41 20z\"/>\n",
              "  </svg>\n",
              "      </button>\n",
              "      \n",
              "  <style>\n",
              "    .colab-df-container {\n",
              "      display:flex;\n",
              "      flex-wrap:wrap;\n",
              "      gap: 12px;\n",
              "    }\n",
              "\n",
              "    .colab-df-convert {\n",
              "      background-color: #E8F0FE;\n",
              "      border: none;\n",
              "      border-radius: 50%;\n",
              "      cursor: pointer;\n",
              "      display: none;\n",
              "      fill: #1967D2;\n",
              "      height: 32px;\n",
              "      padding: 0 0 0 0;\n",
              "      width: 32px;\n",
              "    }\n",
              "\n",
              "    .colab-df-convert:hover {\n",
              "      background-color: #E2EBFA;\n",
              "      box-shadow: 0px 1px 2px rgba(60, 64, 67, 0.3), 0px 1px 3px 1px rgba(60, 64, 67, 0.15);\n",
              "      fill: #174EA6;\n",
              "    }\n",
              "\n",
              "    [theme=dark] .colab-df-convert {\n",
              "      background-color: #3B4455;\n",
              "      fill: #D2E3FC;\n",
              "    }\n",
              "\n",
              "    [theme=dark] .colab-df-convert:hover {\n",
              "      background-color: #434B5C;\n",
              "      box-shadow: 0px 1px 3px 1px rgba(0, 0, 0, 0.15);\n",
              "      filter: drop-shadow(0px 1px 2px rgba(0, 0, 0, 0.3));\n",
              "      fill: #FFFFFF;\n",
              "    }\n",
              "  </style>\n",
              "\n",
              "      <script>\n",
              "        const buttonEl =\n",
              "          document.querySelector('#df-1493711d-7f0f-4b41-84fe-adfffb4452dd button.colab-df-convert');\n",
              "        buttonEl.style.display =\n",
              "          google.colab.kernel.accessAllowed ? 'block' : 'none';\n",
              "\n",
              "        async function convertToInteractive(key) {\n",
              "          const element = document.querySelector('#df-1493711d-7f0f-4b41-84fe-adfffb4452dd');\n",
              "          const dataTable =\n",
              "            await google.colab.kernel.invokeFunction('convertToInteractive',\n",
              "                                                     [key], {});\n",
              "          if (!dataTable) return;\n",
              "\n",
              "          const docLinkHtml = 'Like what you see? Visit the ' +\n",
              "            '<a target=\"_blank\" href=https://colab.research.google.com/notebooks/data_table.ipynb>data table notebook</a>'\n",
              "            + ' to learn more about interactive tables.';\n",
              "          element.innerHTML = '';\n",
              "          dataTable['output_type'] = 'display_data';\n",
              "          await google.colab.output.renderOutput(dataTable, element);\n",
              "          const docLink = document.createElement('div');\n",
              "          docLink.innerHTML = docLinkHtml;\n",
              "          element.appendChild(docLink);\n",
              "        }\n",
              "      </script>\n",
              "    </div>\n",
              "  </div>\n",
              "  "
            ]
          },
          "metadata": {},
          "execution_count": 127
        }
      ]
    },
    {
      "cell_type": "code",
      "source": [
        "from sklearn.neighbors import KNeighborsClassifier"
      ],
      "metadata": {
        "id": "6-L5wS5eeO-X"
      },
      "execution_count": 128,
      "outputs": []
    },
    {
      "cell_type": "code",
      "source": [
        "model_Knn = KNeighborsClassifier(n_neighbors=17)"
      ],
      "metadata": {
        "id": "cs2AG1P4edfs"
      },
      "execution_count": 141,
      "outputs": []
    },
    {
      "cell_type": "code",
      "source": [
        "model_Knn.fit(x_train_scal,y_train)"
      ],
      "metadata": {
        "colab": {
          "base_uri": "https://localhost:8080/"
        },
        "id": "U3UeCL5Re5ZU",
        "outputId": "c7fa9c06-1254-46ee-f7b2-7d04cc6a94a3"
      },
      "execution_count": 142,
      "outputs": [
        {
          "output_type": "execute_result",
          "data": {
            "text/plain": [
              "KNeighborsClassifier(n_neighbors=17)"
            ]
          },
          "metadata": {},
          "execution_count": 142
        }
      ]
    },
    {
      "cell_type": "code",
      "source": [
        "y_pred_test = model_Knn.predict(x_test_scal)"
      ],
      "metadata": {
        "id": "YJ9e8BuJfBtd"
      },
      "execution_count": 143,
      "outputs": []
    },
    {
      "cell_type": "code",
      "source": [
        "np.mean(y_test==y_pred_test)"
      ],
      "metadata": {
        "colab": {
          "base_uri": "https://localhost:8080/"
        },
        "id": "-a-ddyDEfJxS",
        "outputId": "6536d322-5a73-42c4-9bf6-a716d4833953"
      },
      "execution_count": 144,
      "outputs": [
        {
          "output_type": "execute_result",
          "data": {
            "text/plain": [
              "0.832089552238806"
            ]
          },
          "metadata": {},
          "execution_count": 144
        }
      ]
    },
    {
      "cell_type": "code",
      "source": [],
      "metadata": {
        "id": "CiCULW2OgEwO"
      },
      "execution_count": 144,
      "outputs": []
    },
    {
      "cell_type": "code",
      "source": [
        "from sklearn.metrics import classification_report,f1_score"
      ],
      "metadata": {
        "id": "HphS3_pLfNp5"
      },
      "execution_count": 145,
      "outputs": []
    },
    {
      "cell_type": "code",
      "source": [
        "print(f1_score(y_test,y_pred_test))"
      ],
      "metadata": {
        "colab": {
          "base_uri": "https://localhost:8080/"
        },
        "id": "lJlHJnuKgGup",
        "outputId": "de1b9cb3-f66f-44f3-cda3-cbc09f63f9b4"
      },
      "execution_count": 146,
      "outputs": [
        {
          "output_type": "stream",
          "name": "stdout",
          "text": [
            "0.7643979057591622\n"
          ]
        }
      ]
    },
    {
      "cell_type": "code",
      "source": [
        "print(classification_report(y_test,y_pred_test))"
      ],
      "metadata": {
        "colab": {
          "base_uri": "https://localhost:8080/"
        },
        "id": "K7pJM8zafZXs",
        "outputId": "106c9c77-6a29-430f-cbdd-f580d1f9a186"
      },
      "execution_count": 147,
      "outputs": [
        {
          "output_type": "stream",
          "name": "stdout",
          "text": [
            "              precision    recall  f1-score   support\n",
            "\n",
            "           0       0.83      0.91      0.87       165\n",
            "           1       0.83      0.71      0.76       103\n",
            "\n",
            "    accuracy                           0.83       268\n",
            "   macro avg       0.83      0.81      0.82       268\n",
            "weighted avg       0.83      0.83      0.83       268\n",
            "\n"
          ]
        }
      ]
    },
    {
      "cell_type": "code",
      "source": [
        "scale = MinMaxScaler()"
      ],
      "metadata": {
        "id": "Z44ZA6L0ffFL"
      },
      "execution_count": 37,
      "outputs": []
    },
    {
      "cell_type": "code",
      "source": [
        "x_train_scaled = scale.fit_transform(x_train)\n",
        "x_test_scaled = scale.transform(x_test)"
      ],
      "metadata": {
        "id": "8KtvCcW5g4aQ"
      },
      "execution_count": 38,
      "outputs": []
    },
    {
      "cell_type": "code",
      "source": [
        "col = x_train.columns"
      ],
      "metadata": {
        "id": "86RWAL5Dg4aZ"
      },
      "execution_count": 39,
      "outputs": []
    },
    {
      "cell_type": "code",
      "source": [
        "col"
      ],
      "metadata": {
        "colab": {
          "base_uri": "https://localhost:8080/"
        },
        "outputId": "1c252f79-1510-44b3-9d56-a8c59590f0be",
        "id": "o8AMT8S0g4aZ"
      },
      "execution_count": 40,
      "outputs": [
        {
          "output_type": "execute_result",
          "data": {
            "text/plain": [
              "Index(['Age', 'Fare', 'Pclass_1', 'Pclass_2', 'Pclass_3', 'Sex_female',\n",
              "       'Sex_male', 'SibSp_0', 'SibSp_1', 'SibSp_2', 'SibSp_3', 'SibSp_4',\n",
              "       'SibSp_5', 'SibSp_8', 'Parch_0', 'Parch_1', 'Parch_2', 'Parch_3',\n",
              "       'Parch_4', 'Parch_5', 'Parch_6', 'Embarked_C', 'Embarked_Q',\n",
              "       'Embarked_S'],\n",
              "      dtype='object')"
            ]
          },
          "metadata": {},
          "execution_count": 40
        }
      ]
    },
    {
      "cell_type": "code",
      "source": [
        "x_train_scaled"
      ],
      "metadata": {
        "colab": {
          "base_uri": "https://localhost:8080/"
        },
        "outputId": "9390b944-7e67-47a8-c990-d5addb8cffe2",
        "id": "OVOBC-yTg4aa"
      },
      "execution_count": 41,
      "outputs": [
        {
          "output_type": "execute_result",
          "data": {
            "text/plain": [
              "array([[0.67328474, 0.15085515, 1.        , ..., 0.        , 0.        ,\n",
              "        1.        ],\n",
              "       [0.37170143, 0.01854277, 0.        , ..., 0.        , 0.        ,\n",
              "        1.        ],\n",
              "       [0.37170143, 0.01541158, 0.        , ..., 0.        , 0.        ,\n",
              "        1.        ],\n",
              "       ...,\n",
              "       [0.22090978, 0.44409922, 1.        , ..., 1.        , 0.        ,\n",
              "        0.        ],\n",
              "       [0.45966323, 0.1036443 , 1.        , ..., 0.        , 0.        ,\n",
              "        1.        ],\n",
              "       [0.35285248, 0.03142511, 0.        , ..., 0.        , 0.        ,\n",
              "        1.        ]])"
            ]
          },
          "metadata": {},
          "execution_count": 41
        }
      ]
    },
    {
      "cell_type": "code",
      "source": [
        "x_train_scal = pd.DataFrame(x_train_scaled,columns=col)\n",
        "x_test_scal = pd.DataFrame(x_test_scaled,columns=col)"
      ],
      "metadata": {
        "id": "cW8Ckmn_g4aa"
      },
      "execution_count": 42,
      "outputs": []
    },
    {
      "cell_type": "code",
      "source": [
        "x_train_scal"
      ],
      "metadata": {
        "colab": {
          "base_uri": "https://localhost:8080/",
          "height": 487
        },
        "outputId": "b31775bd-0498-423e-9cfb-fc48c0d4893a",
        "id": "6af_u0yig4aa"
      },
      "execution_count": 43,
      "outputs": [
        {
          "output_type": "execute_result",
          "data": {
            "text/plain": [
              "          Age      Fare  Pclass_1  Pclass_2  Pclass_3  Sex_female  Sex_male  \\\n",
              "0    0.673285  0.150855       1.0       0.0       0.0         0.0       1.0   \n",
              "1    0.371701  0.018543       0.0       0.0       1.0         0.0       1.0   \n",
              "2    0.371701  0.015412       0.0       0.0       1.0         0.0       1.0   \n",
              "3    0.258608  0.015330       0.0       0.0       1.0         0.0       1.0   \n",
              "4    0.208344  0.015469       0.0       0.0       1.0         1.0       0.0   \n",
              "..        ...       ...       ...       ...       ...         ...       ...   \n",
              "618  0.585323  0.014151       0.0       0.0       1.0         0.0       1.0   \n",
              "619  0.924604  0.015176       0.0       0.0       1.0         0.0       1.0   \n",
              "620  0.220910  0.444099       1.0       0.0       0.0         1.0       0.0   \n",
              "621  0.459663  0.103644       1.0       0.0       0.0         0.0       1.0   \n",
              "622  0.352852  0.031425       0.0       0.0       1.0         0.0       1.0   \n",
              "\n",
              "     SibSp_0  SibSp_1  SibSp_2  ...  Parch_0  Parch_1  Parch_2  Parch_3  \\\n",
              "0        1.0      0.0      0.0  ...      0.0      1.0      0.0      0.0   \n",
              "1        1.0      0.0      0.0  ...      1.0      0.0      0.0      0.0   \n",
              "2        1.0      0.0      0.0  ...      1.0      0.0      0.0      0.0   \n",
              "3        1.0      0.0      0.0  ...      1.0      0.0      0.0      0.0   \n",
              "4        0.0      0.0      0.0  ...      0.0      0.0      1.0      0.0   \n",
              "..       ...      ...      ...  ...      ...      ...      ...      ...   \n",
              "618      1.0      0.0      0.0  ...      1.0      0.0      0.0      0.0   \n",
              "619      1.0      0.0      0.0  ...      1.0      0.0      0.0      0.0   \n",
              "620      0.0      1.0      0.0  ...      1.0      0.0      0.0      0.0   \n",
              "621      0.0      1.0      0.0  ...      1.0      0.0      0.0      0.0   \n",
              "622      1.0      0.0      0.0  ...      1.0      0.0      0.0      0.0   \n",
              "\n",
              "     Parch_4  Parch_5  Parch_6  Embarked_C  Embarked_Q  Embarked_S  \n",
              "0        0.0      0.0      0.0         0.0         0.0         1.0  \n",
              "1        0.0      0.0      0.0         0.0         0.0         1.0  \n",
              "2        0.0      0.0      0.0         0.0         0.0         1.0  \n",
              "3        0.0      0.0      0.0         0.0         0.0         1.0  \n",
              "4        0.0      0.0      0.0         0.0         0.0         1.0  \n",
              "..       ...      ...      ...         ...         ...         ...  \n",
              "618      0.0      0.0      0.0         0.0         0.0         1.0  \n",
              "619      0.0      0.0      0.0         0.0         0.0         1.0  \n",
              "620      0.0      0.0      0.0         1.0         0.0         0.0  \n",
              "621      0.0      0.0      0.0         0.0         0.0         1.0  \n",
              "622      0.0      0.0      0.0         0.0         0.0         1.0  \n",
              "\n",
              "[623 rows x 24 columns]"
            ],
            "text/html": [
              "\n",
              "  <div id=\"df-6f40273c-d2f6-412d-a722-800d6c9d47f7\">\n",
              "    <div class=\"colab-df-container\">\n",
              "      <div>\n",
              "<style scoped>\n",
              "    .dataframe tbody tr th:only-of-type {\n",
              "        vertical-align: middle;\n",
              "    }\n",
              "\n",
              "    .dataframe tbody tr th {\n",
              "        vertical-align: top;\n",
              "    }\n",
              "\n",
              "    .dataframe thead th {\n",
              "        text-align: right;\n",
              "    }\n",
              "</style>\n",
              "<table border=\"1\" class=\"dataframe\">\n",
              "  <thead>\n",
              "    <tr style=\"text-align: right;\">\n",
              "      <th></th>\n",
              "      <th>Age</th>\n",
              "      <th>Fare</th>\n",
              "      <th>Pclass_1</th>\n",
              "      <th>Pclass_2</th>\n",
              "      <th>Pclass_3</th>\n",
              "      <th>Sex_female</th>\n",
              "      <th>Sex_male</th>\n",
              "      <th>SibSp_0</th>\n",
              "      <th>SibSp_1</th>\n",
              "      <th>SibSp_2</th>\n",
              "      <th>...</th>\n",
              "      <th>Parch_0</th>\n",
              "      <th>Parch_1</th>\n",
              "      <th>Parch_2</th>\n",
              "      <th>Parch_3</th>\n",
              "      <th>Parch_4</th>\n",
              "      <th>Parch_5</th>\n",
              "      <th>Parch_6</th>\n",
              "      <th>Embarked_C</th>\n",
              "      <th>Embarked_Q</th>\n",
              "      <th>Embarked_S</th>\n",
              "    </tr>\n",
              "  </thead>\n",
              "  <tbody>\n",
              "    <tr>\n",
              "      <th>0</th>\n",
              "      <td>0.673285</td>\n",
              "      <td>0.150855</td>\n",
              "      <td>1.0</td>\n",
              "      <td>0.0</td>\n",
              "      <td>0.0</td>\n",
              "      <td>0.0</td>\n",
              "      <td>1.0</td>\n",
              "      <td>1.0</td>\n",
              "      <td>0.0</td>\n",
              "      <td>0.0</td>\n",
              "      <td>...</td>\n",
              "      <td>0.0</td>\n",
              "      <td>1.0</td>\n",
              "      <td>0.0</td>\n",
              "      <td>0.0</td>\n",
              "      <td>0.0</td>\n",
              "      <td>0.0</td>\n",
              "      <td>0.0</td>\n",
              "      <td>0.0</td>\n",
              "      <td>0.0</td>\n",
              "      <td>1.0</td>\n",
              "    </tr>\n",
              "    <tr>\n",
              "      <th>1</th>\n",
              "      <td>0.371701</td>\n",
              "      <td>0.018543</td>\n",
              "      <td>0.0</td>\n",
              "      <td>0.0</td>\n",
              "      <td>1.0</td>\n",
              "      <td>0.0</td>\n",
              "      <td>1.0</td>\n",
              "      <td>1.0</td>\n",
              "      <td>0.0</td>\n",
              "      <td>0.0</td>\n",
              "      <td>...</td>\n",
              "      <td>1.0</td>\n",
              "      <td>0.0</td>\n",
              "      <td>0.0</td>\n",
              "      <td>0.0</td>\n",
              "      <td>0.0</td>\n",
              "      <td>0.0</td>\n",
              "      <td>0.0</td>\n",
              "      <td>0.0</td>\n",
              "      <td>0.0</td>\n",
              "      <td>1.0</td>\n",
              "    </tr>\n",
              "    <tr>\n",
              "      <th>2</th>\n",
              "      <td>0.371701</td>\n",
              "      <td>0.015412</td>\n",
              "      <td>0.0</td>\n",
              "      <td>0.0</td>\n",
              "      <td>1.0</td>\n",
              "      <td>0.0</td>\n",
              "      <td>1.0</td>\n",
              "      <td>1.0</td>\n",
              "      <td>0.0</td>\n",
              "      <td>0.0</td>\n",
              "      <td>...</td>\n",
              "      <td>1.0</td>\n",
              "      <td>0.0</td>\n",
              "      <td>0.0</td>\n",
              "      <td>0.0</td>\n",
              "      <td>0.0</td>\n",
              "      <td>0.0</td>\n",
              "      <td>0.0</td>\n",
              "      <td>0.0</td>\n",
              "      <td>0.0</td>\n",
              "      <td>1.0</td>\n",
              "    </tr>\n",
              "    <tr>\n",
              "      <th>3</th>\n",
              "      <td>0.258608</td>\n",
              "      <td>0.015330</td>\n",
              "      <td>0.0</td>\n",
              "      <td>0.0</td>\n",
              "      <td>1.0</td>\n",
              "      <td>0.0</td>\n",
              "      <td>1.0</td>\n",
              "      <td>1.0</td>\n",
              "      <td>0.0</td>\n",
              "      <td>0.0</td>\n",
              "      <td>...</td>\n",
              "      <td>1.0</td>\n",
              "      <td>0.0</td>\n",
              "      <td>0.0</td>\n",
              "      <td>0.0</td>\n",
              "      <td>0.0</td>\n",
              "      <td>0.0</td>\n",
              "      <td>0.0</td>\n",
              "      <td>0.0</td>\n",
              "      <td>0.0</td>\n",
              "      <td>1.0</td>\n",
              "    </tr>\n",
              "    <tr>\n",
              "      <th>4</th>\n",
              "      <td>0.208344</td>\n",
              "      <td>0.015469</td>\n",
              "      <td>0.0</td>\n",
              "      <td>0.0</td>\n",
              "      <td>1.0</td>\n",
              "      <td>1.0</td>\n",
              "      <td>0.0</td>\n",
              "      <td>0.0</td>\n",
              "      <td>0.0</td>\n",
              "      <td>0.0</td>\n",
              "      <td>...</td>\n",
              "      <td>0.0</td>\n",
              "      <td>0.0</td>\n",
              "      <td>1.0</td>\n",
              "      <td>0.0</td>\n",
              "      <td>0.0</td>\n",
              "      <td>0.0</td>\n",
              "      <td>0.0</td>\n",
              "      <td>0.0</td>\n",
              "      <td>0.0</td>\n",
              "      <td>1.0</td>\n",
              "    </tr>\n",
              "    <tr>\n",
              "      <th>...</th>\n",
              "      <td>...</td>\n",
              "      <td>...</td>\n",
              "      <td>...</td>\n",
              "      <td>...</td>\n",
              "      <td>...</td>\n",
              "      <td>...</td>\n",
              "      <td>...</td>\n",
              "      <td>...</td>\n",
              "      <td>...</td>\n",
              "      <td>...</td>\n",
              "      <td>...</td>\n",
              "      <td>...</td>\n",
              "      <td>...</td>\n",
              "      <td>...</td>\n",
              "      <td>...</td>\n",
              "      <td>...</td>\n",
              "      <td>...</td>\n",
              "      <td>...</td>\n",
              "      <td>...</td>\n",
              "      <td>...</td>\n",
              "      <td>...</td>\n",
              "    </tr>\n",
              "    <tr>\n",
              "      <th>618</th>\n",
              "      <td>0.585323</td>\n",
              "      <td>0.014151</td>\n",
              "      <td>0.0</td>\n",
              "      <td>0.0</td>\n",
              "      <td>1.0</td>\n",
              "      <td>0.0</td>\n",
              "      <td>1.0</td>\n",
              "      <td>1.0</td>\n",
              "      <td>0.0</td>\n",
              "      <td>0.0</td>\n",
              "      <td>...</td>\n",
              "      <td>1.0</td>\n",
              "      <td>0.0</td>\n",
              "      <td>0.0</td>\n",
              "      <td>0.0</td>\n",
              "      <td>0.0</td>\n",
              "      <td>0.0</td>\n",
              "      <td>0.0</td>\n",
              "      <td>0.0</td>\n",
              "      <td>0.0</td>\n",
              "      <td>1.0</td>\n",
              "    </tr>\n",
              "    <tr>\n",
              "      <th>619</th>\n",
              "      <td>0.924604</td>\n",
              "      <td>0.015176</td>\n",
              "      <td>0.0</td>\n",
              "      <td>0.0</td>\n",
              "      <td>1.0</td>\n",
              "      <td>0.0</td>\n",
              "      <td>1.0</td>\n",
              "      <td>1.0</td>\n",
              "      <td>0.0</td>\n",
              "      <td>0.0</td>\n",
              "      <td>...</td>\n",
              "      <td>1.0</td>\n",
              "      <td>0.0</td>\n",
              "      <td>0.0</td>\n",
              "      <td>0.0</td>\n",
              "      <td>0.0</td>\n",
              "      <td>0.0</td>\n",
              "      <td>0.0</td>\n",
              "      <td>0.0</td>\n",
              "      <td>0.0</td>\n",
              "      <td>1.0</td>\n",
              "    </tr>\n",
              "    <tr>\n",
              "      <th>620</th>\n",
              "      <td>0.220910</td>\n",
              "      <td>0.444099</td>\n",
              "      <td>1.0</td>\n",
              "      <td>0.0</td>\n",
              "      <td>0.0</td>\n",
              "      <td>1.0</td>\n",
              "      <td>0.0</td>\n",
              "      <td>0.0</td>\n",
              "      <td>1.0</td>\n",
              "      <td>0.0</td>\n",
              "      <td>...</td>\n",
              "      <td>1.0</td>\n",
              "      <td>0.0</td>\n",
              "      <td>0.0</td>\n",
              "      <td>0.0</td>\n",
              "      <td>0.0</td>\n",
              "      <td>0.0</td>\n",
              "      <td>0.0</td>\n",
              "      <td>1.0</td>\n",
              "      <td>0.0</td>\n",
              "      <td>0.0</td>\n",
              "    </tr>\n",
              "    <tr>\n",
              "      <th>621</th>\n",
              "      <td>0.459663</td>\n",
              "      <td>0.103644</td>\n",
              "      <td>1.0</td>\n",
              "      <td>0.0</td>\n",
              "      <td>0.0</td>\n",
              "      <td>0.0</td>\n",
              "      <td>1.0</td>\n",
              "      <td>0.0</td>\n",
              "      <td>1.0</td>\n",
              "      <td>0.0</td>\n",
              "      <td>...</td>\n",
              "      <td>1.0</td>\n",
              "      <td>0.0</td>\n",
              "      <td>0.0</td>\n",
              "      <td>0.0</td>\n",
              "      <td>0.0</td>\n",
              "      <td>0.0</td>\n",
              "      <td>0.0</td>\n",
              "      <td>0.0</td>\n",
              "      <td>0.0</td>\n",
              "      <td>1.0</td>\n",
              "    </tr>\n",
              "    <tr>\n",
              "      <th>622</th>\n",
              "      <td>0.352852</td>\n",
              "      <td>0.031425</td>\n",
              "      <td>0.0</td>\n",
              "      <td>0.0</td>\n",
              "      <td>1.0</td>\n",
              "      <td>0.0</td>\n",
              "      <td>1.0</td>\n",
              "      <td>1.0</td>\n",
              "      <td>0.0</td>\n",
              "      <td>0.0</td>\n",
              "      <td>...</td>\n",
              "      <td>1.0</td>\n",
              "      <td>0.0</td>\n",
              "      <td>0.0</td>\n",
              "      <td>0.0</td>\n",
              "      <td>0.0</td>\n",
              "      <td>0.0</td>\n",
              "      <td>0.0</td>\n",
              "      <td>0.0</td>\n",
              "      <td>0.0</td>\n",
              "      <td>1.0</td>\n",
              "    </tr>\n",
              "  </tbody>\n",
              "</table>\n",
              "<p>623 rows × 24 columns</p>\n",
              "</div>\n",
              "      <button class=\"colab-df-convert\" onclick=\"convertToInteractive('df-6f40273c-d2f6-412d-a722-800d6c9d47f7')\"\n",
              "              title=\"Convert this dataframe to an interactive table.\"\n",
              "              style=\"display:none;\">\n",
              "        \n",
              "  <svg xmlns=\"http://www.w3.org/2000/svg\" height=\"24px\"viewBox=\"0 0 24 24\"\n",
              "       width=\"24px\">\n",
              "    <path d=\"M0 0h24v24H0V0z\" fill=\"none\"/>\n",
              "    <path d=\"M18.56 5.44l.94 2.06.94-2.06 2.06-.94-2.06-.94-.94-2.06-.94 2.06-2.06.94zm-11 1L8.5 8.5l.94-2.06 2.06-.94-2.06-.94L8.5 2.5l-.94 2.06-2.06.94zm10 10l.94 2.06.94-2.06 2.06-.94-2.06-.94-.94-2.06-.94 2.06-2.06.94z\"/><path d=\"M17.41 7.96l-1.37-1.37c-.4-.4-.92-.59-1.43-.59-.52 0-1.04.2-1.43.59L10.3 9.45l-7.72 7.72c-.78.78-.78 2.05 0 2.83L4 21.41c.39.39.9.59 1.41.59.51 0 1.02-.2 1.41-.59l7.78-7.78 2.81-2.81c.8-.78.8-2.07 0-2.86zM5.41 20L4 18.59l7.72-7.72 1.47 1.35L5.41 20z\"/>\n",
              "  </svg>\n",
              "      </button>\n",
              "      \n",
              "  <style>\n",
              "    .colab-df-container {\n",
              "      display:flex;\n",
              "      flex-wrap:wrap;\n",
              "      gap: 12px;\n",
              "    }\n",
              "\n",
              "    .colab-df-convert {\n",
              "      background-color: #E8F0FE;\n",
              "      border: none;\n",
              "      border-radius: 50%;\n",
              "      cursor: pointer;\n",
              "      display: none;\n",
              "      fill: #1967D2;\n",
              "      height: 32px;\n",
              "      padding: 0 0 0 0;\n",
              "      width: 32px;\n",
              "    }\n",
              "\n",
              "    .colab-df-convert:hover {\n",
              "      background-color: #E2EBFA;\n",
              "      box-shadow: 0px 1px 2px rgba(60, 64, 67, 0.3), 0px 1px 3px 1px rgba(60, 64, 67, 0.15);\n",
              "      fill: #174EA6;\n",
              "    }\n",
              "\n",
              "    [theme=dark] .colab-df-convert {\n",
              "      background-color: #3B4455;\n",
              "      fill: #D2E3FC;\n",
              "    }\n",
              "\n",
              "    [theme=dark] .colab-df-convert:hover {\n",
              "      background-color: #434B5C;\n",
              "      box-shadow: 0px 1px 3px 1px rgba(0, 0, 0, 0.15);\n",
              "      filter: drop-shadow(0px 1px 2px rgba(0, 0, 0, 0.3));\n",
              "      fill: #FFFFFF;\n",
              "    }\n",
              "  </style>\n",
              "\n",
              "      <script>\n",
              "        const buttonEl =\n",
              "          document.querySelector('#df-6f40273c-d2f6-412d-a722-800d6c9d47f7 button.colab-df-convert');\n",
              "        buttonEl.style.display =\n",
              "          google.colab.kernel.accessAllowed ? 'block' : 'none';\n",
              "\n",
              "        async function convertToInteractive(key) {\n",
              "          const element = document.querySelector('#df-6f40273c-d2f6-412d-a722-800d6c9d47f7');\n",
              "          const dataTable =\n",
              "            await google.colab.kernel.invokeFunction('convertToInteractive',\n",
              "                                                     [key], {});\n",
              "          if (!dataTable) return;\n",
              "\n",
              "          const docLinkHtml = 'Like what you see? Visit the ' +\n",
              "            '<a target=\"_blank\" href=https://colab.research.google.com/notebooks/data_table.ipynb>data table notebook</a>'\n",
              "            + ' to learn more about interactive tables.';\n",
              "          element.innerHTML = '';\n",
              "          dataTable['output_type'] = 'display_data';\n",
              "          await google.colab.output.renderOutput(dataTable, element);\n",
              "          const docLink = document.createElement('div');\n",
              "          docLink.innerHTML = docLinkHtml;\n",
              "          element.appendChild(docLink);\n",
              "        }\n",
              "      </script>\n",
              "    </div>\n",
              "  </div>\n",
              "  "
            ]
          },
          "metadata": {},
          "execution_count": 43
        }
      ]
    },
    {
      "cell_type": "code",
      "source": [
        "from sklearn.neighbors import KNeighborsClassifier"
      ],
      "metadata": {
        "id": "eQfkMWIcg4ab"
      },
      "execution_count": 75,
      "outputs": []
    },
    {
      "cell_type": "code",
      "source": [
        "model_Knn2 = KNeighborsClassifier(n_neighbors=5)"
      ],
      "metadata": {
        "id": "PP-TYpUkg4ab"
      },
      "execution_count": 112,
      "outputs": []
    },
    {
      "cell_type": "code",
      "source": [
        "model_Knn2.fit(x_train_scal,y_train)"
      ],
      "metadata": {
        "colab": {
          "base_uri": "https://localhost:8080/"
        },
        "outputId": "98f4920e-83a4-4624-ceb3-f04a59441cce",
        "id": "YzCOzq8Yg4ab"
      },
      "execution_count": 113,
      "outputs": [
        {
          "output_type": "execute_result",
          "data": {
            "text/plain": [
              "KNeighborsClassifier()"
            ]
          },
          "metadata": {},
          "execution_count": 113
        }
      ]
    },
    {
      "cell_type": "code",
      "source": [
        "y_pred_test = model_Knn.predict(x_test_scal)"
      ],
      "metadata": {
        "id": "HTCM5yggg4ac"
      },
      "execution_count": 114,
      "outputs": []
    },
    {
      "cell_type": "code",
      "source": [
        "np.mean(y_test==y_pred_test)"
      ],
      "metadata": {
        "colab": {
          "base_uri": "https://localhost:8080/"
        },
        "outputId": "211f7260-ff0b-476d-88e9-35efe7d29dc7",
        "id": "fS7BhEr1g4ac"
      },
      "execution_count": 115,
      "outputs": [
        {
          "output_type": "execute_result",
          "data": {
            "text/plain": [
              "0.7947761194029851"
            ]
          },
          "metadata": {},
          "execution_count": 115
        }
      ]
    },
    {
      "cell_type": "code",
      "source": [
        "from sklearn.metrics import classification_report,f1_score"
      ],
      "metadata": {
        "id": "i1QVdZukg4ac"
      },
      "execution_count": 116,
      "outputs": []
    },
    {
      "cell_type": "code",
      "source": [
        "print(f1_score(y_test,y_pred_test))"
      ],
      "metadata": {
        "colab": {
          "base_uri": "https://localhost:8080/"
        },
        "outputId": "46e9007f-9070-40d0-d8aa-0417cbe425ca",
        "id": "1eNwyC-Ng4ac"
      },
      "execution_count": 117,
      "outputs": [
        {
          "output_type": "stream",
          "name": "stdout",
          "text": [
            "0.6745562130177515\n"
          ]
        }
      ]
    },
    {
      "cell_type": "code",
      "source": [
        "print(classification_report(y_test,y_pred_test))"
      ],
      "metadata": {
        "colab": {
          "base_uri": "https://localhost:8080/"
        },
        "outputId": "768d30bc-a886-4de9-8992-216a4dc25723",
        "id": "LzzadY-Fg4ad"
      },
      "execution_count": 118,
      "outputs": [
        {
          "output_type": "stream",
          "name": "stdout",
          "text": [
            "              precision    recall  f1-score   support\n",
            "\n",
            "           0       0.77      0.95      0.85       165\n",
            "           1       0.86      0.55      0.67       103\n",
            "\n",
            "    accuracy                           0.79       268\n",
            "   macro avg       0.82      0.75      0.76       268\n",
            "weighted avg       0.81      0.79      0.78       268\n",
            "\n"
          ]
        }
      ]
    },
    {
      "cell_type": "code",
      "source": [
        "def elbow(k):\n",
        "  test_error=[]\n",
        "  for i in k:\n",
        "    clf = KNeighborsClassifier(n_neighbors=i)\n",
        "    clf.fit(x_train_scal,y_train)\n",
        "    y_pred_tes = clf.predict(x_test_scal)\n",
        "    tmp=f1_score(y_pred_tes,y_test)\n",
        "    error = 1-tmp \n",
        "    test_error.append(error)\n",
        "  return test_error"
      ],
      "metadata": {
        "id": "eybhof6Dg_ps"
      },
      "execution_count": 137,
      "outputs": []
    },
    {
      "cell_type": "code",
      "source": [
        "k = range(3,20,2)"
      ],
      "metadata": {
        "id": "LrstiwlaiRUm"
      },
      "execution_count": 138,
      "outputs": []
    },
    {
      "cell_type": "code",
      "source": [
        "test_err = elbow(k)"
      ],
      "metadata": {
        "id": "HyD-4k1Zib6Q"
      },
      "execution_count": 139,
      "outputs": []
    },
    {
      "cell_type": "code",
      "source": [
        "plt.plot(k,test_err)\n",
        "plt.xlabel('K')\n",
        "plt.ylabel('error')"
      ],
      "metadata": {
        "colab": {
          "base_uri": "https://localhost:8080/",
          "height": 297
        },
        "id": "jO8EdkgQiecQ",
        "outputId": "310a5e16-e455-497d-c7ee-e97c0039b846"
      },
      "execution_count": 140,
      "outputs": [
        {
          "output_type": "execute_result",
          "data": {
            "text/plain": [
              "Text(0, 0.5, 'error')"
            ]
          },
          "metadata": {},
          "execution_count": 140
        },
        {
          "output_type": "display_data",
          "data": {
            "text/plain": [
              "<Figure size 432x288 with 1 Axes>"
            ],
            "image/png": "[encoded data removed]"
          },
          "metadata": {
            "needs_background": "light"
          }
        }
      ]
    },
    {
      "cell_type": "code",
      "source": [],
      "metadata": {
        "id": "EKFydqOujX3i"
      },
      "execution_count": null,
      "outputs": []
    }
  ]
}